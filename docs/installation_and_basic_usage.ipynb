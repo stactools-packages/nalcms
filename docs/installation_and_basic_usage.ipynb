{
 "cells": [
  {
   "cell_type": "markdown",
   "id": "5c18bc99-c406-4e17-8036-810944f9b453",
   "metadata": {},
   "source": [
    "# Tutorial: Working with this stactools subpackage\n",
    "\n",
    "Stactools ([docs](https://stactools.readthedocs.io/en/latest/), [source](https://github.com/stac-utils/stactools)) is a command line tool and library for working with [STAC](https://stacspec.org/), based on [PySTAC](https://github.com/stac-utils/pystac). [Stactools packages](https://github.com/stactools-packages) are add-ons for stactools that provide STAC functionality for specific datasets, such as [Sentinel 2](https://github.com/stactools-packages/sentinel2) and [Landsat](https://github.com/stactools-packages/landsat). \n",
    "\n",
    "Stactools and its packages can be accessed from the CLI or from within normal Python code. This notebook provides examples of both."
   ]
  },
  {
   "cell_type": "markdown",
   "id": "67de3bce-5a81-4a41-a04e-af05c979d6f8",
   "metadata": {},
   "source": [
    "## 1. Installing stactools\n",
    "\n",
    "To use a package, first install `stactools` then the package. `stactools` can be installed with `pip`."
   ]
  },
  {
   "cell_type": "code",
   "execution_count": 1,
   "id": "0f81ebc5-62ce-4884-b7ee-7533661787a2",
   "metadata": {},
   "outputs": [
    {
     "name": "stdout",
     "output_type": "stream",
     "text": [
      "Requirement already satisfied: stactools in /home/james/Projects/Community/STAC/stactools/.venv/lib/python3.8/site-packages (0.2.1a1)\n",
      "Requirement already satisfied: rasterio~=1.2 in /home/james/Projects/Community/STAC/stactools/.venv/lib/python3.8/site-packages (from stactools) (1.2.6)\n",
      "Requirement already satisfied: pystac[validation]~=1.0.0rc1 in /home/james/Projects/Community/STAC/stactools/.venv/lib/python3.8/site-packages (from stactools) (1.0.0)\n",
      "Requirement already satisfied: lxml~=4.6 in /home/james/Projects/Community/STAC/stactools/.venv/lib/python3.8/site-packages (from stactools) (4.6.3)\n",
      "Requirement already satisfied: Shapely~=1.7 in /home/james/Projects/Community/STAC/stactools/.venv/lib/python3.8/site-packages (from stactools) (1.7.1)\n",
      "Requirement already satisfied: aiohttp~=3.7 in /home/james/Projects/Community/STAC/stactools/.venv/lib/python3.8/site-packages (from stactools) (3.7.4.post0)\n",
      "Requirement already satisfied: pyproj~=3.0 in /home/james/Projects/Community/STAC/stactools/.venv/lib/python3.8/site-packages (from stactools) (3.1.0)\n",
      "Requirement already satisfied: fsspec~=2021.6.0 in /home/james/Projects/Community/STAC/stactools/.venv/lib/python3.8/site-packages (from stactools) (2021.6.1)\n",
      "Requirement already satisfied: requests~=2.25 in /home/james/Projects/Community/STAC/stactools/.venv/lib/python3.8/site-packages (from stactools) (2.26.0)\n",
      "Requirement already satisfied: click~=7.1 in /home/james/Projects/Community/STAC/stactools/.venv/lib/python3.8/site-packages (from stactools) (7.1.2)\n",
      "Requirement already satisfied: multidict<7.0,>=4.5 in /home/james/Projects/Community/STAC/stactools/.venv/lib/python3.8/site-packages (from aiohttp~=3.7->stactools) (5.1.0)\n",
      "Requirement already satisfied: async-timeout<4.0,>=3.0 in /home/james/Projects/Community/STAC/stactools/.venv/lib/python3.8/site-packages (from aiohttp~=3.7->stactools) (3.0.1)\n",
      "Requirement already satisfied: attrs>=17.3.0 in /home/james/Projects/Community/STAC/stactools/.venv/lib/python3.8/site-packages (from aiohttp~=3.7->stactools) (21.2.0)\n",
      "Requirement already satisfied: yarl<2.0,>=1.0 in /home/james/Projects/Community/STAC/stactools/.venv/lib/python3.8/site-packages (from aiohttp~=3.7->stactools) (1.6.3)\n",
      "Requirement already satisfied: chardet<5.0,>=2.0 in /home/james/Projects/Community/STAC/stactools/.venv/lib/python3.8/site-packages (from aiohttp~=3.7->stactools) (4.0.0)\n",
      "Requirement already satisfied: typing-extensions>=3.6.5 in /home/james/Projects/Community/STAC/stactools/.venv/lib/python3.8/site-packages (from aiohttp~=3.7->stactools) (3.10.0.0)\n",
      "Requirement already satisfied: certifi in /home/james/Projects/Community/STAC/stactools/.venv/lib/python3.8/site-packages (from pyproj~=3.0->stactools) (2021.5.30)\n",
      "Requirement already satisfied: python-dateutil>=2.7.0 in /home/james/Projects/Community/STAC/stactools/.venv/lib/python3.8/site-packages (from pystac[validation]~=1.0.0rc1->stactools) (2.8.2)\n",
      "Requirement already satisfied: jsonschema>=3.0 in /home/james/Projects/Community/STAC/stactools/.venv/lib/python3.8/site-packages (from pystac[validation]~=1.0.0rc1->stactools) (3.2.0)\n",
      "Requirement already satisfied: setuptools in /home/james/Projects/Community/STAC/stactools/.venv/lib/python3.8/site-packages (from jsonschema>=3.0->pystac[validation]~=1.0.0rc1->stactools) (57.0.0)\n",
      "Requirement already satisfied: six>=1.11.0 in /home/james/Projects/Community/STAC/stactools/.venv/lib/python3.8/site-packages (from jsonschema>=3.0->pystac[validation]~=1.0.0rc1->stactools) (1.16.0)\n",
      "Requirement already satisfied: pyrsistent>=0.14.0 in /home/james/Projects/Community/STAC/stactools/.venv/lib/python3.8/site-packages (from jsonschema>=3.0->pystac[validation]~=1.0.0rc1->stactools) (0.18.0)\n",
      "Requirement already satisfied: click-plugins in /home/james/Projects/Community/STAC/stactools/.venv/lib/python3.8/site-packages (from rasterio~=1.2->stactools) (1.1.1)\n",
      "Requirement already satisfied: numpy in /home/james/Projects/Community/STAC/stactools/.venv/lib/python3.8/site-packages (from rasterio~=1.2->stactools) (1.21.1)\n",
      "Requirement already satisfied: cligj>=0.5 in /home/james/Projects/Community/STAC/stactools/.venv/lib/python3.8/site-packages (from rasterio~=1.2->stactools) (0.7.2)\n",
      "Requirement already satisfied: snuggs>=1.4.1 in /home/james/Projects/Community/STAC/stactools/.venv/lib/python3.8/site-packages (from rasterio~=1.2->stactools) (1.4.7)\n",
      "Requirement already satisfied: affine in /home/james/Projects/Community/STAC/stactools/.venv/lib/python3.8/site-packages (from rasterio~=1.2->stactools) (2.3.0)\n",
      "Requirement already satisfied: idna<4,>=2.5 in /home/james/Projects/Community/STAC/stactools/.venv/lib/python3.8/site-packages (from requests~=2.25->stactools) (3.2)\n",
      "Requirement already satisfied: charset-normalizer~=2.0.0 in /home/james/Projects/Community/STAC/stactools/.venv/lib/python3.8/site-packages (from requests~=2.25->stactools) (2.0.3)\n",
      "Requirement already satisfied: urllib3<1.27,>=1.21.1 in /home/james/Projects/Community/STAC/stactools/.venv/lib/python3.8/site-packages (from requests~=2.25->stactools) (1.26.6)\n",
      "Requirement already satisfied: pyparsing>=2.1.6 in /home/james/Projects/Community/STAC/stactools/.venv/lib/python3.8/site-packages (from snuggs>=1.4.1->rasterio~=1.2->stactools) (2.4.7)\n",
      "\u001b[33mWARNING: You are using pip version 21.1.2; however, version 21.1.3 is available.\n",
      "You should consider upgrading via the '/home/james/Projects/Community/STAC/stactools/.venv/bin/python -m pip install --upgrade pip' command.\u001b[0m\n",
      "Note: you may need to restart the kernel to use updated packages.\n"
     ]
    }
   ],
   "source": [
    "%pip install stactools"
   ]
  },
  {
   "cell_type": "markdown",
   "id": "0959bd18-aa99-4318-a7c6-e0f39f8ba081",
   "metadata": {},
   "source": [
    "Check that the `stac` CLI tool is installed"
   ]
  },
  {
   "cell_type": "code",
   "execution_count": 2,
   "id": "3d574e02-274a-4aba-b464-11e71b5b9036",
   "metadata": {},
   "outputs": [
    {
     "name": "stdout",
     "output_type": "stream",
     "text": [
      "Usage: stac [OPTIONS] COMMAND [ARGS]...\r\n",
      "\r\n",
      "Options:\r\n",
      "  -v, --verbose  Use verbose mode\r\n",
      "  -q, --quiet    Use quiet mode (no output)\r\n",
      "  --help         Show this message and exit.\r\n",
      "\r\n",
      "Commands:\r\n",
      "  copy         Copy a STAC Catalog\r\n",
      "  describe     Prints out a list of all catalogs, collections and items in\r\n",
      "               this STAC.\r\n",
      "\r\n",
      "  info         Display info about a static STAC catalog.\r\n",
      "  jrc-gsw      Commands for working with JRC-GSW data.\r\n",
      "  layout       Reformat the layout of a STAC based on templating.\r\n",
      "  merge        Merge items from one STAC into another.\r\n",
      "  move-assets  Move or copy assets in a STAC to the Item locations.\r\n",
      "  version      Display version info.\r\n"
     ]
    }
   ],
   "source": [
    "!stac"
   ]
  },
  {
   "cell_type": "markdown",
   "id": "b99ce54c-0c58-45d0-8528-fad272b4210c",
   "metadata": {},
   "source": [
    "Notice the Commands available. In the next step we will add a dataset to work with"
   ]
  },
  {
   "cell_type": "markdown",
   "id": "e8266d00-0cf2-46b0-af73-9e214dca1870",
   "metadata": {},
   "source": [
    "## 2. Installing a stactools package"
   ]
  },
  {
   "cell_type": "markdown",
   "id": "2967e333-ef58-4a83-9de3-2ddc3826f546",
   "metadata": {},
   "source": [
    "Here we'll use the subpackage that this notebook resides within, but feel free to change the `PACKAGE` variable to any one of the subpackage repo names in the [stactools-subpackages](https://github.com/stactools-packages). Other examples include `sentinel2`, `planet`, and `landsat`."
   ]
  },
  {
   "cell_type": "code",
   "execution_count": 3,
   "id": "ca0fed48-143b-46b0-a32e-cf7f2d7bdda8",
   "metadata": {},
   "outputs": [],
   "source": [
    "# Alter this to match your package\n",
    "PACKAGE = \"nrcan-landcover\""
   ]
  },
  {
   "cell_type": "code",
   "execution_count": 4,
   "id": "715fca0f-aaab-4265-a5bb-1e005ce8d1cb",
   "metadata": {},
   "outputs": [
    {
     "name": "stdout",
     "output_type": "stream",
     "text": [
      "Collecting stactools-nrcan-landcover\n",
      "  Using cached stactools_nrcan_landcover-0.2.3-py3-none-any.whl (8.4 kB)\n",
      "Requirement already satisfied: stactools~=0.2.1a1 in /home/james/Projects/Community/STAC/stactools/.venv/lib/python3.8/site-packages (from stactools-nrcan-landcover) (0.2.1a1)\n",
      "Requirement already satisfied: click~=7.1 in /home/james/Projects/Community/STAC/stactools/.venv/lib/python3.8/site-packages (from stactools~=0.2.1a1->stactools-nrcan-landcover) (7.1.2)\n",
      "Requirement already satisfied: pystac[validation]~=1.0.0rc1 in /home/james/Projects/Community/STAC/stactools/.venv/lib/python3.8/site-packages (from stactools~=0.2.1a1->stactools-nrcan-landcover) (1.0.0)\n",
      "Requirement already satisfied: Shapely~=1.7 in /home/james/Projects/Community/STAC/stactools/.venv/lib/python3.8/site-packages (from stactools~=0.2.1a1->stactools-nrcan-landcover) (1.7.1)\n",
      "Requirement already satisfied: requests~=2.25 in /home/james/Projects/Community/STAC/stactools/.venv/lib/python3.8/site-packages (from stactools~=0.2.1a1->stactools-nrcan-landcover) (2.26.0)\n",
      "Requirement already satisfied: rasterio~=1.2 in /home/james/Projects/Community/STAC/stactools/.venv/lib/python3.8/site-packages (from stactools~=0.2.1a1->stactools-nrcan-landcover) (1.2.6)\n",
      "Requirement already satisfied: fsspec~=2021.6.0 in /home/james/Projects/Community/STAC/stactools/.venv/lib/python3.8/site-packages (from stactools~=0.2.1a1->stactools-nrcan-landcover) (2021.6.1)\n",
      "Requirement already satisfied: aiohttp~=3.7 in /home/james/Projects/Community/STAC/stactools/.venv/lib/python3.8/site-packages (from stactools~=0.2.1a1->stactools-nrcan-landcover) (3.7.4.post0)\n",
      "Requirement already satisfied: lxml~=4.6 in /home/james/Projects/Community/STAC/stactools/.venv/lib/python3.8/site-packages (from stactools~=0.2.1a1->stactools-nrcan-landcover) (4.6.3)\n",
      "Requirement already satisfied: pyproj~=3.0 in /home/james/Projects/Community/STAC/stactools/.venv/lib/python3.8/site-packages (from stactools~=0.2.1a1->stactools-nrcan-landcover) (3.1.0)\n",
      "Requirement already satisfied: chardet<5.0,>=2.0 in /home/james/Projects/Community/STAC/stactools/.venv/lib/python3.8/site-packages (from aiohttp~=3.7->stactools~=0.2.1a1->stactools-nrcan-landcover) (4.0.0)\n",
      "Requirement already satisfied: typing-extensions>=3.6.5 in /home/james/Projects/Community/STAC/stactools/.venv/lib/python3.8/site-packages (from aiohttp~=3.7->stactools~=0.2.1a1->stactools-nrcan-landcover) (3.10.0.0)\n",
      "Requirement already satisfied: yarl<2.0,>=1.0 in /home/james/Projects/Community/STAC/stactools/.venv/lib/python3.8/site-packages (from aiohttp~=3.7->stactools~=0.2.1a1->stactools-nrcan-landcover) (1.6.3)\n",
      "Requirement already satisfied: multidict<7.0,>=4.5 in /home/james/Projects/Community/STAC/stactools/.venv/lib/python3.8/site-packages (from aiohttp~=3.7->stactools~=0.2.1a1->stactools-nrcan-landcover) (5.1.0)\n",
      "Requirement already satisfied: attrs>=17.3.0 in /home/james/Projects/Community/STAC/stactools/.venv/lib/python3.8/site-packages (from aiohttp~=3.7->stactools~=0.2.1a1->stactools-nrcan-landcover) (21.2.0)\n",
      "Requirement already satisfied: async-timeout<4.0,>=3.0 in /home/james/Projects/Community/STAC/stactools/.venv/lib/python3.8/site-packages (from aiohttp~=3.7->stactools~=0.2.1a1->stactools-nrcan-landcover) (3.0.1)\n",
      "Requirement already satisfied: certifi in /home/james/Projects/Community/STAC/stactools/.venv/lib/python3.8/site-packages (from pyproj~=3.0->stactools~=0.2.1a1->stactools-nrcan-landcover) (2021.5.30)\n",
      "Requirement already satisfied: python-dateutil>=2.7.0 in /home/james/Projects/Community/STAC/stactools/.venv/lib/python3.8/site-packages (from pystac[validation]~=1.0.0rc1->stactools~=0.2.1a1->stactools-nrcan-landcover) (2.8.2)\n",
      "Requirement already satisfied: jsonschema>=3.0 in /home/james/Projects/Community/STAC/stactools/.venv/lib/python3.8/site-packages (from pystac[validation]~=1.0.0rc1->stactools~=0.2.1a1->stactools-nrcan-landcover) (3.2.0)\n",
      "Requirement already satisfied: setuptools in /home/james/Projects/Community/STAC/stactools/.venv/lib/python3.8/site-packages (from jsonschema>=3.0->pystac[validation]~=1.0.0rc1->stactools~=0.2.1a1->stactools-nrcan-landcover) (57.0.0)\n",
      "Requirement already satisfied: pyrsistent>=0.14.0 in /home/james/Projects/Community/STAC/stactools/.venv/lib/python3.8/site-packages (from jsonschema>=3.0->pystac[validation]~=1.0.0rc1->stactools~=0.2.1a1->stactools-nrcan-landcover) (0.18.0)\n",
      "Requirement already satisfied: six>=1.11.0 in /home/james/Projects/Community/STAC/stactools/.venv/lib/python3.8/site-packages (from jsonschema>=3.0->pystac[validation]~=1.0.0rc1->stactools~=0.2.1a1->stactools-nrcan-landcover) (1.16.0)\n",
      "Requirement already satisfied: click-plugins in /home/james/Projects/Community/STAC/stactools/.venv/lib/python3.8/site-packages (from rasterio~=1.2->stactools~=0.2.1a1->stactools-nrcan-landcover) (1.1.1)\n",
      "Requirement already satisfied: numpy in /home/james/Projects/Community/STAC/stactools/.venv/lib/python3.8/site-packages (from rasterio~=1.2->stactools~=0.2.1a1->stactools-nrcan-landcover) (1.21.1)\n",
      "Requirement already satisfied: cligj>=0.5 in /home/james/Projects/Community/STAC/stactools/.venv/lib/python3.8/site-packages (from rasterio~=1.2->stactools~=0.2.1a1->stactools-nrcan-landcover) (0.7.2)\n",
      "Requirement already satisfied: snuggs>=1.4.1 in /home/james/Projects/Community/STAC/stactools/.venv/lib/python3.8/site-packages (from rasterio~=1.2->stactools~=0.2.1a1->stactools-nrcan-landcover) (1.4.7)\n",
      "Requirement already satisfied: affine in /home/james/Projects/Community/STAC/stactools/.venv/lib/python3.8/site-packages (from rasterio~=1.2->stactools~=0.2.1a1->stactools-nrcan-landcover) (2.3.0)\n",
      "Requirement already satisfied: idna<4,>=2.5 in /home/james/Projects/Community/STAC/stactools/.venv/lib/python3.8/site-packages (from requests~=2.25->stactools~=0.2.1a1->stactools-nrcan-landcover) (3.2)\n",
      "Requirement already satisfied: charset-normalizer~=2.0.0 in /home/james/Projects/Community/STAC/stactools/.venv/lib/python3.8/site-packages (from requests~=2.25->stactools~=0.2.1a1->stactools-nrcan-landcover) (2.0.3)\n",
      "Requirement already satisfied: urllib3<1.27,>=1.21.1 in /home/james/Projects/Community/STAC/stactools/.venv/lib/python3.8/site-packages (from requests~=2.25->stactools~=0.2.1a1->stactools-nrcan-landcover) (1.26.6)\n",
      "Requirement already satisfied: pyparsing>=2.1.6 in /home/james/Projects/Community/STAC/stactools/.venv/lib/python3.8/site-packages (from snuggs>=1.4.1->rasterio~=1.2->stactools~=0.2.1a1->stactools-nrcan-landcover) (2.4.7)\n",
      "Installing collected packages: stactools-nrcan-landcover\n",
      "Successfully installed stactools-nrcan-landcover-0.2.3\n",
      "\u001b[33mWARNING: You are using pip version 21.1.2; however, version 21.1.3 is available.\n",
      "You should consider upgrading via the '/home/james/Projects/Community/STAC/stactools/.venv/bin/python -m pip install --upgrade pip' command.\u001b[0m\n",
      "Note: you may need to restart the kernel to use updated packages.\n"
     ]
    }
   ],
   "source": [
    "%pip install stactools-{PACKAGE}"
   ]
  },
  {
   "cell_type": "markdown",
   "id": "00ffb84d-0412-4e77-bf6b-5dbb05fb2843",
   "metadata": {},
   "source": [
    "Notice the addition of the subpackage command in stactools now."
   ]
  },
  {
   "cell_type": "code",
   "execution_count": 5,
   "id": "e6b72b9d-340b-4101-b7f3-01d487727da5",
   "metadata": {},
   "outputs": [
    {
     "name": "stdout",
     "output_type": "stream",
     "text": [
      "Usage: stac [OPTIONS] COMMAND [ARGS]...\r\n",
      "\r\n",
      "Options:\r\n",
      "  -v, --verbose  Use verbose mode\r\n",
      "  -q, --quiet    Use quiet mode (no output)\r\n",
      "  --help         Show this message and exit.\r\n",
      "\r\n",
      "Commands:\r\n",
      "  copy            Copy a STAC Catalog\r\n",
      "  describe        Prints out a list of all catalogs, collections and items in\r\n",
      "                  this STAC.\r\n",
      "\r\n",
      "  info            Display info about a static STAC catalog.\r\n",
      "  jrc-gsw         Commands for working with JRC-GSW data.\r\n",
      "  layout          Reformat the layout of a STAC based on templating.\r\n",
      "  merge           Merge items from one STAC into another.\r\n",
      "  move-assets     Move or copy assets in a STAC to the Item locations.\r\n",
      "  nrcanlandcover  Commands for working with Natural Resources Canada Land\r\n",
      "                  Cover data\r\n",
      "\r\n",
      "  version         Display version info.\r\n"
     ]
    }
   ],
   "source": [
    "!stac"
   ]
  },
  {
   "cell_type": "markdown",
   "id": "4b050477-32f7-4c5b-9402-4bd0d7f5aaa1",
   "metadata": {},
   "source": [
    "## 3. Using the stactools subpackage"
   ]
  },
  {
   "cell_type": "markdown",
   "id": "383d21cd-a4c2-41d4-987a-72791ae4e46e",
   "metadata": {},
   "source": [
    "You can now explore the STAC package commands to ingest and describe the data"
   ]
  },
  {
   "cell_type": "code",
   "execution_count": 6,
   "id": "c7abe82f-19f9-4f79-acec-3c197f6fe41e",
   "metadata": {},
   "outputs": [],
   "source": [
    "# Alter this to match your package\n",
    "COMMAND = \"create-item\""
   ]
  },
  {
   "cell_type": "code",
   "execution_count": 7,
   "id": "46e87d6e-f843-4179-ae4b-1495ddd307f0",
   "metadata": {},
   "outputs": [
    {
     "name": "stdout",
     "output_type": "stream",
     "text": [
      "Usage: stac nrcanlandcover [OPTIONS] COMMAND [ARGS]...\r\n",
      "\r\n",
      "Options:\r\n",
      "  --help  Show this message and exit.\r\n",
      "\r\n",
      "Commands:\r\n",
      "  create-cog         Transform Geotiff to Cloud-Optimized Geotiff.\r\n",
      "  create-collection  Creates a STAC collection from NRCan Landcover metadata\r\n",
      "  create-item        Create a STAC item using JSONLD metadata and a COG\r\n"
     ]
    }
   ],
   "source": [
    "!stac {PACKAGE.replace(\"-\", \"\")} --help"
   ]
  },
  {
   "cell_type": "markdown",
   "id": "7afb3476-8dff-4b3f-a2f0-707779b8517e",
   "metadata": {},
   "source": [
    "And more specific help with an individual command."
   ]
  },
  {
   "cell_type": "code",
   "execution_count": 8,
   "id": "fe579e16-0a01-4be1-b01a-377e25372aed",
   "metadata": {},
   "outputs": [
    {
     "name": "stdout",
     "output_type": "stream",
     "text": [
      "Usage: stac nrcanlandcover create-item [OPTIONS]\r\n",
      "\r\n",
      "  Generate a STAC item using the metadata, with an asset url as provided.\r\n",
      "\r\n",
      "  Args:     destination (str): Local directory to save the STAC Item json\r\n",
      "  cog (str): location of a COG asset for the item     metadata (str): url\r\n",
      "  containing the NRCAN Landcover JSONLD metadata\r\n",
      "\r\n",
      "Options:\r\n",
      "  -d, --destination TEXT  The output directory for the STAC json  [required]\r\n",
      "  -c, --cog TEXT          COG href  [required]\r\n",
      "  -m, --metadata TEXT     The url to the metadata description.\r\n",
      "  --help                  Show this message and exit.\r\n"
     ]
    }
   ],
   "source": [
    "!stac {PACKAGE.replace(\"-\", \"\")} {COMMAND} --help"
   ]
  },
  {
   "cell_type": "markdown",
   "id": "c4794019-70a4-4831-a3ca-695e09e6296f",
   "metadata": {},
   "source": [
    "So far we've used Jupyter Notebooks' IPython [line magic](https://ipython.readthedocs.io/en/stable/interactive/magics.html) to work with stactools packages on the command line, but it's also possible to use them within Python scripts."
   ]
  },
  {
   "cell_type": "code",
   "execution_count": 9,
   "id": "404ec845-72d2-42d2-a20a-db1f16331869",
   "metadata": {},
   "outputs": [
    {
     "ename": "TypeError",
     "evalue": "create_item() missing 2 required positional arguments: 'metadata' and 'metadata_url'",
     "output_type": "error",
     "traceback": [
      "\u001b[0;31m---------------------------------------------------------------------------\u001b[0m",
      "\u001b[0;31mTypeError\u001b[0m                                 Traceback (most recent call last)",
      "\u001b[0;32m/tmp/ipykernel_83871/451547211.py\u001b[0m in \u001b[0;36m<module>\u001b[0;34m\u001b[0m\n\u001b[1;32m      2\u001b[0m \u001b[0;32mfrom\u001b[0m \u001b[0mstactools\u001b[0m\u001b[0;34m.\u001b[0m\u001b[0mnrcan_landcover\u001b[0m \u001b[0;32mimport\u001b[0m \u001b[0mstac\u001b[0m\u001b[0;34m,\u001b[0m \u001b[0mcog\u001b[0m\u001b[0;34m\u001b[0m\u001b[0;34m\u001b[0m\u001b[0m\n\u001b[1;32m      3\u001b[0m \u001b[0;34m\u001b[0m\u001b[0m\n\u001b[0;32m----> 4\u001b[0;31m \u001b[0mstac\u001b[0m\u001b[0;34m.\u001b[0m\u001b[0mcreate_item\u001b[0m\u001b[0;34m(\u001b[0m\u001b[0;34m)\u001b[0m\u001b[0;34m\u001b[0m\u001b[0;34m\u001b[0m\u001b[0m\n\u001b[0m\u001b[1;32m      5\u001b[0m \u001b[0mstac\u001b[0m\u001b[0;34m.\u001b[0m\u001b[0mcreate_collection\u001b[0m\u001b[0;34m(\u001b[0m\u001b[0;34m)\u001b[0m\u001b[0;34m\u001b[0m\u001b[0;34m\u001b[0m\u001b[0m\n\u001b[1;32m      6\u001b[0m \u001b[0mcog\u001b[0m\u001b[0;34m.\u001b[0m\u001b[0mcreate_cog\u001b[0m\u001b[0;34m(\u001b[0m\u001b[0;34m)\u001b[0m\u001b[0;34m\u001b[0m\u001b[0;34m\u001b[0m\u001b[0m\n",
      "\u001b[0;31mTypeError\u001b[0m: create_item() missing 2 required positional arguments: 'metadata' and 'metadata_url'"
     ]
    }
   ],
   "source": [
    "# Alter these with examples to match your package\n",
    "from stactools.nrcan_landcover import stac, cog\n",
    "\n",
    "stac.create_item()\n",
    "stac.create_collection()\n",
    "cog.create_cog()"
   ]
  },
  {
   "cell_type": "code",
   "execution_count": null,
   "id": "bd38eaa9-e4f6-4a2f-b546-7082cf3fb121",
   "metadata": {},
   "outputs": [],
   "source": []
  },
  {
   "cell_type": "code",
   "execution_count": null,
   "id": "34015774",
   "metadata": {},
   "outputs": [],
   "source": []
  }
 ],
 "metadata": {
  "kernelspec": {
   "display_name": "Python 3 (ipykernel)",
   "language": "python",
   "name": "python3"
  },
  "language_info": {
   "codemirror_mode": {
    "name": "ipython",
    "version": 3
   },
   "file_extension": ".py",
   "mimetype": "text/x-python",
   "name": "python",
   "nbconvert_exporter": "python",
   "pygments_lexer": "ipython3",
   "version": "3.8.0"
  }
 },
 "nbformat": 4,
 "nbformat_minor": 5
}
