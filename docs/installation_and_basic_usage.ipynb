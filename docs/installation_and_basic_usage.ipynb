{
 "cells": [
  {
   "cell_type": "markdown",
   "id": "229d7d26",
   "metadata": {},
   "source": [
    "# Tutorial: Working with this stactools subpackage\n",
    "\n",
    "Stactools ([docs](https://stactools.readthedocs.io/en/latest/), [source](https://github.com/stac-utils/stactools)) is a command line tool and library for working with [STAC](https://stacspec.org/), based on [PySTAC](https://github.com/stac-utils/pystac).\n",
    "\n",
    "[Stactools dataset packages](https://github.com/stactools-packages) are add-ons for stactools that provide STAC functionality for specific datasets, such as [Sentinel 2](https://github.com/stactools-packages/sentinel2) and [Landsat](https://github.com/stactools-packages/landsat).\n",
    "\n",
    "Stactools and its dataset packages can be accessed from the CLI or from within normal Python code. This notebook provides examples of both.\n",
    "\n",
    "More information about the NALCMS dataset can be found [here](http://www.cec.org/north-american-land-change-monitoring-system/)."
   ]
  },
  {
   "cell_type": "markdown",
   "id": "7ee9a759",
   "metadata": {},
   "source": [
    "## 1. Using this notebook\n",
    "\n",
    "The easiest way to use this notebook is to run it through `scripts/notebook`. This will create a Docker container Ready to run this notebook, which can be found in `docs/`.\n",
    "\n",
    "If you wish to use this notebook outside of the container (such as on [mybinder.org](mybinder.org)) then please install the prerequisites using:"
   ]
  },
  {
   "cell_type": "code",
   "execution_count": null,
   "id": "9f325a49",
   "metadata": {},
   "outputs": [],
   "source": [
    "!pip install stactools-nalcms"
   ]
  },
  {
   "cell_type": "markdown",
   "id": "824a84cc",
   "metadata": {},
   "source": [
    "## 2. From the CLI"
   ]
  },
  {
   "cell_type": "markdown",
   "id": "12123e24",
   "metadata": {},
   "source": [
    "The first thing we can do is check that the `stac` and `stac-nalcms` CLI tools are installed and explore the options. Notice the inclusion of the `nalcms` command for `stac`:"
   ]
  },
  {
   "cell_type": "code",
   "execution_count": 1,
   "id": "f9cb7ef6",
   "metadata": {},
   "outputs": [
    {
     "name": "stdout",
     "output_type": "stream",
     "text": [
      "Usage: stac [OPTIONS] COMMAND [ARGS]...\r\n",
      "\r\n",
      "Options:\r\n",
      "  -v, --verbose  Use verbose mode\r\n",
      "  -q, --quiet    Use quiet mode (no output)\r\n",
      "  --help         Show this message and exit.\r\n",
      "\r\n",
      "Commands:\r\n",
      "  copy         Copy a STAC Catalog\r\n",
      "  describe     Prints out a list of all catalogs, collections and items in\r\n",
      "               this STAC.\r\n",
      "\r\n",
      "  info         Display info about a static STAC catalog.\r\n",
      "  layout       Reformat the layout of a STAC based on templating.\r\n",
      "  merge        Merge items from one STAC into another.\r\n",
      "  move-assets  Move or copy assets in a STAC to the Item locations.\r\n",
      "  nalcms       Commands for working with NALCMS data.\r\n",
      "  validate     Validate a stac object.\r\n",
      "  version      Display version info.\r\n"
     ]
    }
   ],
   "source": [
    "!stac"
   ]
  },
  {
   "cell_type": "markdown",
   "id": "79cec5ed",
   "metadata": {},
   "source": [
    "You can now explore the STAC dataset package commands to ingest and describe the data"
   ]
  },
  {
   "cell_type": "code",
   "execution_count": 2,
   "id": "84751b9a",
   "metadata": {},
   "outputs": [
    {
     "name": "stdout",
     "output_type": "stream",
     "text": [
      "Usage: stac nalcms [OPTIONS] COMMAND [ARGS]...\r\n",
      "\r\n",
      "Options:\r\n",
      "  --help  Show this message and exit.\r\n",
      "\r\n",
      "Commands:\r\n",
      "  create-cog         Transform Geotiff to Cloud-Optimized Geotiff.\r\n",
      "  create-collection  Creates STAC collections for NALCMS data.\r\n",
      "  create-item        Create a STAC item for a given region, GSD and year.\r\n"
     ]
    }
   ],
   "source": [
    "!stac nalcms --help"
   ]
  },
  {
   "cell_type": "markdown",
   "id": "f9132b08",
   "metadata": {},
   "source": [
    "And more specific help with an individual command."
   ]
  },
  {
   "cell_type": "code",
   "execution_count": 3,
   "id": "dea95769",
   "metadata": {},
   "outputs": [
    {
     "name": "stdout",
     "output_type": "stream",
     "text": [
      "Usage: stac nalcms create-collection [OPTIONS]\r\n",
      "\r\n",
      "  Creates a STAC Collection for each mapped dataset from the North American\r\n",
      "  Land Classification Monitoring System. Args:     destination (str):\r\n",
      "  Directory used to store the STAC collections. Returns:     Callable\r\n",
      "\r\n",
      "Options:\r\n",
      "  -d, --destination TEXT  The output directory for the STAC Collection json.\r\n",
      "                          [required]\r\n",
      "\r\n",
      "  --help                  Show this message and exit.\r\n"
     ]
    }
   ],
   "source": [
    "!stac nalcms create-collection --help"
   ]
  },
  {
   "cell_type": "code",
   "execution_count": 4,
   "id": "c53aeaa5",
   "metadata": {},
   "outputs": [
    {
     "name": "stdout",
     "output_type": "stream",
     "text": [
      "Usage: stac nalcms create-item [OPTIONS]\r\n",
      "\r\n",
      "  Creates a STAC Item\r\n",
      "\r\n",
      "  Args:     destination (str): The output directory for the STAC json.\r\n",
      "  source (str): The input COG to create the item from.     region (str): The\r\n",
      "  region covered by the STAC Item.     gsd (int, float): The ground sampling\r\n",
      "  distance of the STAC Item.     year (str): The year or range of years\r\n",
      "  covered by the STAC Item.\r\n",
      "\r\n",
      "Options:\r\n",
      "  -d, --destination TEXT          The output directory for the STAC json.\r\n",
      "                                  [required]\r\n",
      "\r\n",
      "  -s, --source TEXT               The input COG to create the item from.\r\n",
      "  -r, --region [CAN|USA|MEX|NA|ASK|HI]\r\n",
      "                                  The region covered by the STAC Item.\r\n",
      "  -g, --gsd [30|250]\r\n",
      "  -y, --year [2005-2010|2005|2010-2015|2015|2010]\r\n",
      "                                  The year or range of years covered by the\r\n",
      "                                  STAC Item.\r\n",
      "\r\n",
      "  --help                          Show this message and exit.\r\n"
     ]
    }
   ],
   "source": [
    "!stac nalcms create-item --help"
   ]
  },
  {
   "cell_type": "markdown",
   "id": "4b7c15e1",
   "metadata": {},
   "source": [
    "The metadata necessary to create the root STAC collection, regional subcollections and all items is contained within the dataset package, so only an output directory is required:"
   ]
  },
  {
   "cell_type": "code",
   "execution_count": 9,
   "id": "9bf3dd11",
   "metadata": {},
   "outputs": [
    {
     "name": "stdout",
     "output_type": "stream",
     "text": [
      "CAN_2010-2015_30m.json\tindex.rst\t\t\t    Makefile\n",
      "collection.json\t\tinstallation_and_basic_usage.ipynb  NALCMS_change\n",
      "conf.py\t\t\tmake.bat\t\t\t    NALCMS_yearly\n",
      "{\n",
      "  \"type\": \"Collection\",\n",
      "  \"id\": \"nalcms\",\n",
      "  \"stac_version\": \"1.0.0\",\n",
      "  \"description\": \"NALCMS products can be used for a variety of applications, including: carbon sequestration analysis, wildlife habitat mapping, ecosystem monitoring, environmental planning, water quality assessments, and evaluation of biofuels production potential.The maps produced under this initiative represent land cover in 2005, 2010, and 2015, & are based on either Moderate Resolution Imaging Spectroradiometer (MODIS) satellite imagery monthly composites at 250 m spatial resolution; Landsat-7; or RapidEye satellite imagery at 30 m spatial resolution. The NALCMS\\u2019 nineteen land cover classes are based on the Land Cover Classification System (LCCS) standard developed by the Food & Agriculture Organization (FAO) of the United Nations.\",\n",
      "  \"links\": [\n",
      "    {\n",
      "      \"rel\": \"root\",\n",
      "      \"href\": \"./collection.json\",\n",
      "      \"type\": \"application/json\"\n",
      "{\n",
      "  \"type\": \"Collection\",\n",
      "  \"id\": \"NALCMS_yearly\",\n",
      "  \"stac_version\": \"1.0.0\",\n",
      "  \"description\": \"Land classification, yearly\",\n",
      "  \"links\": [\n",
      "    {\n",
      "      \"rel\": \"root\",\n",
      "      \"href\": \"../collection.json\",\n",
      "      \"type\": \"application/json\"\n",
      "{\n",
      "  \"type\": \"Feature\",\n",
      "  \"stac_version\": \"1.0.0\",\n",
      "  \"id\": \"USA_2010_30m\",\n",
      "  \"properties\": {\n",
      "    \"title\": \"USA land cover (2010, 30 m)\",\n",
      "    \"description\": \"Land cover for 2010 over United States of America (30 m)\",\n",
      "    \"start_datetime\": \"2010-01-01T00:00:00Z\",\n",
      "    \"end_datetime\": \"2010-12-31T00:00:00Z\",\n",
      "    \"gsd\": 30.0,\n"
     ]
    }
   ],
   "source": [
    "!stac nalcms create-collection -d \".\"\n",
    "!ls\n",
    "!head ./collection.json\n",
    "!head ./NALCMS_yearly/collection.json\n",
    "!head ./NALCMS_yearly/USA_2010_30m/USA_2010_30m.json"
   ]
  },
  {
   "cell_type": "markdown",
   "id": "36e9e858",
   "metadata": {},
   "source": [
    "Items exist for most combinations of: \n",
    "- Region (CAN|USA|MEX|NA|ASK|HI)\n",
    "- Ground sampling distance (GSD) (30|250)\n",
    "- Year or land classification change between years (2005-2010|2005|2010-2015|2015|2010)\n",
    "\n",
    "Which combinations exist can be found [here](http://www.cec.org/north-american-land-change-monitoring-system/) or by looking at STAC structure created with `create-collection`.\n",
    "\n",
    "`create-item` will create the item for (NA, 30, 2010-2015) by default. Below is an example of creating the item for (CAN, 30, 2010-2015). The path to an associated COG can be optionally included as a data asset using the `--source` option."
   ]
  },
  {
   "cell_type": "code",
   "execution_count": 6,
   "id": "c21ea3f7",
   "metadata": {},
   "outputs": [
    {
     "name": "stdout",
     "output_type": "stream",
     "text": [
      "{\r\n",
      "  \"type\": \"Feature\",\r\n",
      "  \"stac_version\": \"1.0.0\",\r\n",
      "  \"id\": \"CAN_2010-2015_30m\",\r\n",
      "  \"properties\": {\r\n",
      "    \"title\": \"CAN land cover change (2010-2015, 30 m)\",\r\n",
      "    \"description\": \"Land cover change for 2010-2015 over Canada (30 m)\",\r\n",
      "    \"start_datetime\": \"2010-01-01T00:00:00Z\",\r\n",
      "    \"end_datetime\": \"2015-12-31T00:00:00Z\",\r\n",
      "    \"gsd\": 30.0,\r\n"
     ]
    }
   ],
   "source": [
    "!stac nalcms create-item -d \".\" -r CAN -g 30 -y 2010-2015\n",
    "!head ./CAN_2010-2015_30m.json"
   ]
  },
  {
   "cell_type": "markdown",
   "id": "076eb507",
   "metadata": {},
   "source": [
    "## 3. As a Python module"
   ]
  },
  {
   "cell_type": "markdown",
   "id": "d9f0b42d",
   "metadata": {},
   "source": [
    "So far we've used IPython [line magic](https://ipython.readthedocs.io/en/stable/interactive/magics.html) to work with stactools packages on the command line from this notebook, but it's also possible to use them within Python scripts."
   ]
  },
  {
   "cell_type": "code",
   "execution_count": 13,
   "id": "7d774f2e",
   "metadata": {},
   "outputs": [],
   "source": [
    "from stactools.nalcms import stac\n",
    "from stactools.nalcms.constants import GSDS, REGIONS, YEARS, PERIODS\n",
    "import os\n",
    "import itertools as it"
   ]
  },
  {
   "cell_type": "markdown",
   "id": "eb2d41ca",
   "metadata": {},
   "source": [
    "Like above it's possible to create the complete STAC from the metadata within the dataset package:"
   ]
  },
  {
   "cell_type": "code",
   "execution_count": 14,
   "id": "4506c6a0",
   "metadata": {},
   "outputs": [],
   "source": [
    "root_col = stac.create_nalcms_collection()\n",
    "\n",
    "for per, years in PERIODS.items():\n",
    "    combos = it.product(REGIONS.keys(), GSDS, years)\n",
    "    period = stac.create_period_collection(per)\n",
    "    root_col.add_child(period)\n",
    "\n",
    "    for reg, gsd, year in combos:\n",
    "        item = stac.create_item(reg, gsd, year, \"\")\n",
    "        if item is not None:\n",
    "            period.add_item(item)"
   ]
  },
  {
   "cell_type": "code",
   "execution_count": 15,
   "id": "6893d592",
   "metadata": {},
   "outputs": [
    {
     "data": {
      "text/plain": [
       "{'type': 'Collection',\n",
       " 'id': 'nalcms',\n",
       " 'stac_version': '1.0.0',\n",
       " 'description': 'NALCMS products can be used for a variety of applications, including: carbon sequestration analysis, wildlife habitat mapping, ecosystem monitoring, environmental planning, water quality assessments, and evaluation of biofuels production potential.The maps produced under this initiative represent land cover in 2005, 2010, and 2015, & are based on either Moderate Resolution Imaging Spectroradiometer (MODIS) satellite imagery monthly composites at 250 m spatial resolution; Landsat-7; or RapidEye satellite imagery at 30 m spatial resolution. The NALCMS’ nineteen land cover classes are based on the Land Cover Classification System (LCCS) standard developed by the Food & Agriculture Organization (FAO) of the United Nations.',\n",
       " 'links': [{'rel': <RelType.ROOT: 'root'>,\n",
       "   'href': None,\n",
       "   'type': <MediaType.JSON: 'application/json'>},\n",
       "  {'rel': <ScientificRelType.CITE_AS: 'cite-as'>,\n",
       "   'href': 'https://doi.org/10.1201/b11964-24'},\n",
       "  {'rel': <RelType.CHILD: 'child'>,\n",
       "   'href': None,\n",
       "   'type': <MediaType.JSON: 'application/json'>},\n",
       "  {'rel': <RelType.CHILD: 'child'>,\n",
       "   'href': None,\n",
       "   'type': <MediaType.JSON: 'application/json'>}],\n",
       " 'stac_extensions': ['https://stac-extensions.github.io/scientific/v1.0.0/schema.json'],\n",
       " 'sci:doi': '10.1201/b11964-24',\n",
       " 'sci:citation': 'Latifovic, Rasim & Homer, Collin & Ressl, Rainer & Pouliot, D.A. & Hossian, S. & Colditz, Rene & Olthof, Ian & Chandra, Giri & Victoria, Arturo. (2012). North American Land Change Monitoring System. Remote Sensing of Land Use and Land Cover: Principles and Applications. 303-324. 10.1201/b11964-24.',\n",
       " 'title': 'North American Land Change Monitoring System data',\n",
       " 'extent': {'spatial': {'bbox': [[1.4279751101491476,\n",
       "     -160.08863641682973,\n",
       "     76.46819003404057,\n",
       "     4.00508993290567]]},\n",
       "  'temporal': {'interval': [['2005-01-01T00:00:00Z', None]]}},\n",
       " 'license': 'proprietary',\n",
       " 'keywords': ['NALCMS', 'Landsat 7', 'RapidEye', 'North America', 'MODIS'],\n",
       " 'providers': [{'name': 'Natural Resources Canada | Ressources naturelles Canada / Canada Centre Mapping and Earth Observation | Centre Canadien de cartographie et d’observation de la terre',\n",
       "   'roles': [<ProviderRole.PRODUCER: 'producer'>,\n",
       "    <ProviderRole.PROCESSOR: 'processor'>],\n",
       "   'url': 'https://www.nrcan.gc.ca'},\n",
       "  {'name': 'Instituto Nacional de Estadística y Geografía',\n",
       "   'roles': [<ProviderRole.PRODUCER: 'producer'>,\n",
       "    <ProviderRole.PROCESSOR: 'processor'>],\n",
       "   'url': 'https://www.inegi.org.mx/'},\n",
       "  {'name': 'Comisión Nacional Forestal',\n",
       "   'roles': [<ProviderRole.PRODUCER: 'producer'>,\n",
       "    <ProviderRole.PROCESSOR: 'processor'>],\n",
       "   'url': 'https://www.gob.mx/conafor'},\n",
       "  {'name': 'U.S. Geological Survey',\n",
       "   'roles': [<ProviderRole.PRODUCER: 'producer'>,\n",
       "    <ProviderRole.PROCESSOR: 'processor'>],\n",
       "   'url': 'https://www.usgs.gov'},\n",
       "  {'name': 'Commission for Environmental Cooperation',\n",
       "   'roles': [<ProviderRole.PRODUCER: 'producer'>,\n",
       "    <ProviderRole.PROCESSOR: 'processor'>],\n",
       "   'url': 'http://www.cec.org/north-american-environmental-atlas/'}],\n",
       " 'summaries': {'platform': ['Terra', 'Aqua', 'Landsat 7', 'RapidEye'],\n",
       "  'instruments': ['MODIS', 'ETM+', 'REIS'],\n",
       "  'constellation': ['A-Train', 'RapidEye'],\n",
       "  'gsd': [30.0, 250.0],\n",
       "  'proj:epsg': [None]},\n",
       " 'assets': {'30m_2010-2015 metadata': {'href': 'http://www.cec.org/wp-content/uploads/wpallimport/files/Atlas/Files/land_cover_30m_2010-2015_landsat/metadata_nalcms_2010_2015_30m.doc',\n",
       "   'type': 'application/msword',\n",
       "   'title': 'NALCMS 30m_2010-2015 Metadata',\n",
       "   'description': 'NALCMS created metadata.',\n",
       "   'roles': ['metadata']},\n",
       "  '30m_2015 metadata': {'href': 'http://www.cec.org/wp-content/uploads/wpallimport/files/Atlas/Files/2010nalcms30m/nalcms_2015_30m_metadata_v2.doc',\n",
       "   'type': 'application/msword',\n",
       "   'title': 'NALCMS 30m_2015 Metadata',\n",
       "   'description': 'NALCMS created metadata.',\n",
       "   'roles': ['metadata']},\n",
       "  '30m_2010 metadata': {'href': 'http://www.cec.org/wp-content/uploads/wpallimport/files/Atlas/Files/2010nalcms30m/nalcms_2010_30m_metadata.doc',\n",
       "   'type': 'application/msword',\n",
       "   'title': 'NALCMS 30m_2010 Metadata',\n",
       "   'description': 'NALCMS created metadata.',\n",
       "   'roles': ['metadata']},\n",
       "  '250m_2005-2010 metadata': {'href': 'http://www.cec.org/wp-content/uploads/wpallimport/files/Atlas/Files/Land_Cover_05_10/Metadata_NALCMS_2005_2010.doc',\n",
       "   'type': 'application/msword',\n",
       "   'title': 'NALCMS 250m_2005-2010 Metadata',\n",
       "   'description': 'NALCMS created metadata.',\n",
       "   'roles': ['metadata']},\n",
       "  '250m_2010 metadata': {'href': 'http://www.cec.org/wp-content/uploads/wpallimport/files/Atlas/Files/Land_Cover_2010/Metadata_NALCMS_2010v2.doc',\n",
       "   'type': 'application/msword',\n",
       "   'title': 'NALCMS 250m_2010 Metadata',\n",
       "   'description': 'NALCMS created metadata.',\n",
       "   'roles': ['metadata']},\n",
       "  '250m_2005 metadata': {'href': 'http://www.cec.org/wp-content/uploads/wpallimport/files/Atlas/Files/Land_Cover_2005/Metadata_NALCMS_2005_v3.doc',\n",
       "   'type': 'application/msword',\n",
       "   'title': 'NALCMS 250m_2005 Metadata',\n",
       "   'description': 'NALCMS created metadata.',\n",
       "   'roles': ['metadata']}}}"
      ]
     },
     "execution_count": 15,
     "metadata": {},
     "output_type": "execute_result"
    }
   ],
   "source": [
    "root_col.to_dict()"
   ]
  },
  {
   "cell_type": "code",
   "execution_count": 16,
   "id": "8c65b6ef",
   "metadata": {},
   "outputs": [
    {
     "data": {
      "text/plain": [
       "{'type': 'Feature',\n",
       " 'stac_version': '1.0.0',\n",
       " 'id': 'CAN_2010_30m',\n",
       " 'properties': {'title': 'CAN land cover (2010, 30 m)',\n",
       "  'description': 'Land cover for 2010 over Canada (30 m)',\n",
       "  'start_datetime': '2010-01-01T00:00:00Z',\n",
       "  'end_datetime': '2010-12-31T00:00:00Z',\n",
       "  'gsd': 30.0,\n",
       "  'proj:epsg': None,\n",
       "  'proj:transform': [30.0,\n",
       "   0.0,\n",
       "   -2315310.0000000037,\n",
       "   0.0,\n",
       "   -30.0,\n",
       "   4309999.999999997,\n",
       "   0.0,\n",
       "   0.0,\n",
       "   1.0],\n",
       "  'proj:bbox': [-2315310.0000000037,\n",
       "   -250300.0000000028,\n",
       "   3345089.9999999963,\n",
       "   4309999.999999997],\n",
       "  'proj:wkt2': 'PROJCS[\"WGS_1984_Lambert_Azimuthal_Equal_Area\",GEOGCS[\"WGS 84\",DATUM[\"WGS_1984\",SPHEROID[\"WGS 84\",6378137,298.257223563,AUTHORITY[\"EPSG\",\"7030\"]],AUTHORITY[\"EPSG\",\"6326\"]],PRIMEM[\"Greenwich\",0],UNIT[\"degree\",0.0174532925199433,AUTHORITY[\"EPSG\",\"9122\"]],AUTHORITY[\"EPSG\",\"4326\"]],PROJECTION[\"Lambert_Azimuthal_Equal_Area\"],PARAMETER[\"latitude_of_center\",45],PARAMETER[\"longitude_of_center\",-100],PARAMETER[\"false_easting\",0],PARAMETER[\"false_northing\",0],UNIT[\"metre\",1],AXIS[\"Easting\",EAST],AXIS[\"Northing\",NORTH]]',\n",
       "  'proj:shape': (152010, 188680),\n",
       "  'label:type': <LabelType.RASTER: 'raster'>,\n",
       "  'label:tasks': [<LabelTask.CLASSIFICATION: 'classification'>],\n",
       "  'label:properties': None,\n",
       "  'label:description': '',\n",
       "  'label:classes': [{'classes': [1,\n",
       "     2,\n",
       "     3,\n",
       "     4,\n",
       "     5,\n",
       "     6,\n",
       "     7,\n",
       "     8,\n",
       "     9,\n",
       "     10,\n",
       "     11,\n",
       "     12,\n",
       "     13,\n",
       "     14,\n",
       "     15,\n",
       "     16,\n",
       "     17,\n",
       "     18,\n",
       "     19],\n",
       "    'name': ''}],\n",
       "  'datetime': '2010-01-01T00:00:00Z'},\n",
       " 'geometry': {'type': 'Polygon',\n",
       "  'coordinates': [[[61.779167675145786, -127.40853951132385],\n",
       "    [61.779167675145786, -12.078890175164927],\n",
       "    [39.2533440032893, -12.078890175164927],\n",
       "    [39.2533440032893, -127.40853951132385],\n",
       "    [61.779167675145786, -127.40853951132385]]]},\n",
       " 'links': [{'rel': <RelType.ROOT: 'root'>,\n",
       "   'href': None,\n",
       "   'type': <MediaType.JSON: 'application/json'>},\n",
       "  {'rel': <RelType.COLLECTION: 'collection'>,\n",
       "   'href': None,\n",
       "   'type': <MediaType.JSON: 'application/json'>},\n",
       "  {'rel': <RelType.PARENT: 'parent'>,\n",
       "   'href': None,\n",
       "   'type': <MediaType.JSON: 'application/json'>}],\n",
       " 'assets': {'metadata': {'href': 'http://www.cec.org/wp-content/uploads/wpallimport/files/Atlas/Files/2010nalcms30m/nalcms_2010_30m_metadata.doc',\n",
       "   'type': 'application/vnd.ms-word.document',\n",
       "   'title': 'Metadata for land cover for 2010 (30 m)',\n",
       "   'roles': ['metadata']},\n",
       "  'data': {'href': 'http://www.cec.org/wp-content/uploads/wpallimport/files/Atlas/Files/2010nalcms30m/canada_2010.zip',\n",
       "   'type': 'application/zip',\n",
       "   'title': 'Data for land cover over Canada for 2010 (30 m)',\n",
       "   'raster:bands': [{'nodata': -128.0,\n",
       "     'sampling': 'area',\n",
       "     'data_type': 'int8',\n",
       "     'spatial_resolution': 30.0}],\n",
       "   'file:size': 1821927873,\n",
       "   'file:values': [{'values': [1],\n",
       "     'summary': 'Temperate or sub-polar needleleaf forest'},\n",
       "    {'values': [2], 'summary': 'Sub-polar taiga needleleaf forest'},\n",
       "    {'values': [3],\n",
       "     'summary': 'Tropical or sub-tropical broadleaf evergreen forest'},\n",
       "    {'values': [4],\n",
       "     'summary': 'Tropical or sub-tropical broadleaf deciduous forest'},\n",
       "    {'values': [5],\n",
       "     'summary': 'Temperate or sub-polar broadleaf deciduous forest'},\n",
       "    {'values': [6], 'summary': 'Mixed forest'},\n",
       "    {'values': [7], 'summary': 'Tropical or sub-tropical shrubland'},\n",
       "    {'values': [8], 'summary': 'Temperate or sub-polar shrubland'},\n",
       "    {'values': [9], 'summary': 'Tropical or sub-tropical grassland'},\n",
       "    {'values': [10], 'summary': 'Temperate or sub-polar grassland'},\n",
       "    {'values': [11], 'summary': 'Sub-polar or polar shrubland-lichen-moss'},\n",
       "    {'values': [12], 'summary': 'Sub-polar or polar grassland-lichen-moss'},\n",
       "    {'values': [13], 'summary': 'Sub-polar or polar barren-lichen-moss'},\n",
       "    {'values': [14], 'summary': 'Wetland'},\n",
       "    {'values': [15], 'summary': 'Cropland'},\n",
       "    {'values': [16], 'summary': 'Barren lands'},\n",
       "    {'values': [17], 'summary': 'Urban and built-up'},\n",
       "    {'values': [18], 'summary': 'Water'},\n",
       "    {'values': [19], 'summary': 'Snow and ice'}],\n",
       "   'roles': ['data']}},\n",
       " 'bbox': [39.2533440032893,\n",
       "  -127.40853951132385,\n",
       "  61.779167675145786,\n",
       "  -12.078890175164927],\n",
       " 'stac_extensions': ['https://stac-extensions.github.io/projection/v1.0.0/schema.json',\n",
       "  'https://stac-extensions.github.io/raster/v1.0.0/schema.json',\n",
       "  'https://stac-extensions.github.io/file/v2.0.0/schema.json',\n",
       "  'https://stac-extensions.github.io/label/v1.0.0/schema.json'],\n",
       " 'collection': 'NALCMS_yearly'}"
      ]
     },
     "execution_count": 16,
     "metadata": {},
     "output_type": "execute_result"
    }
   ],
   "source": [
    "next(root_col.get_all_items()).to_dict()"
   ]
  },
  {
   "cell_type": "markdown",
   "id": "b6aaaf22",
   "metadata": {},
   "source": [
    "And similarly, it's possible to create an individual item for a given region/GSD/year(s):"
   ]
  },
  {
   "cell_type": "code",
   "execution_count": 17,
   "id": "1c7f023f",
   "metadata": {},
   "outputs": [
    {
     "data": {
      "text/plain": [
       "{'type': 'Feature',\n",
       " 'stac_version': '1.0.0',\n",
       " 'id': 'CAN_2010_30m',\n",
       " 'properties': {'title': 'CAN land cover (2010, 30 m)',\n",
       "  'description': 'Land cover for 2010 over Canada (30 m)',\n",
       "  'start_datetime': '2010-01-01T00:00:00Z',\n",
       "  'end_datetime': '2010-12-31T00:00:00Z',\n",
       "  'gsd': 30.0,\n",
       "  'proj:epsg': None,\n",
       "  'proj:transform': [30.0,\n",
       "   0.0,\n",
       "   -2315310.0000000037,\n",
       "   0.0,\n",
       "   -30.0,\n",
       "   4309999.999999997,\n",
       "   0.0,\n",
       "   0.0,\n",
       "   1.0],\n",
       "  'proj:bbox': [-2315310.0000000037,\n",
       "   -250300.0000000028,\n",
       "   3345089.9999999963,\n",
       "   4309999.999999997],\n",
       "  'proj:wkt2': 'PROJCS[\"WGS_1984_Lambert_Azimuthal_Equal_Area\",GEOGCS[\"WGS 84\",DATUM[\"WGS_1984\",SPHEROID[\"WGS 84\",6378137,298.257223563,AUTHORITY[\"EPSG\",\"7030\"]],AUTHORITY[\"EPSG\",\"6326\"]],PRIMEM[\"Greenwich\",0],UNIT[\"degree\",0.0174532925199433,AUTHORITY[\"EPSG\",\"9122\"]],AUTHORITY[\"EPSG\",\"4326\"]],PROJECTION[\"Lambert_Azimuthal_Equal_Area\"],PARAMETER[\"latitude_of_center\",45],PARAMETER[\"longitude_of_center\",-100],PARAMETER[\"false_easting\",0],PARAMETER[\"false_northing\",0],UNIT[\"metre\",1],AXIS[\"Easting\",EAST],AXIS[\"Northing\",NORTH]]',\n",
       "  'proj:shape': (152010, 188680),\n",
       "  'label:type': <LabelType.RASTER: 'raster'>,\n",
       "  'label:tasks': [<LabelTask.CLASSIFICATION: 'classification'>],\n",
       "  'label:properties': None,\n",
       "  'label:description': '',\n",
       "  'label:classes': [{'classes': [1,\n",
       "     2,\n",
       "     3,\n",
       "     4,\n",
       "     5,\n",
       "     6,\n",
       "     7,\n",
       "     8,\n",
       "     9,\n",
       "     10,\n",
       "     11,\n",
       "     12,\n",
       "     13,\n",
       "     14,\n",
       "     15,\n",
       "     16,\n",
       "     17,\n",
       "     18,\n",
       "     19],\n",
       "    'name': ''}],\n",
       "  'datetime': '2010-01-01T00:00:00Z'},\n",
       " 'geometry': {'type': 'Polygon',\n",
       "  'coordinates': [[[61.779167675145786, -127.40853951132385],\n",
       "    [61.779167675145786, -12.078890175164927],\n",
       "    [39.2533440032893, -12.078890175164927],\n",
       "    [39.2533440032893, -127.40853951132385],\n",
       "    [61.779167675145786, -127.40853951132385]]]},\n",
       " 'links': [],\n",
       " 'assets': {'metadata': {'href': 'http://www.cec.org/wp-content/uploads/wpallimport/files/Atlas/Files/2010nalcms30m/nalcms_2010_30m_metadata.doc',\n",
       "   'type': 'application/vnd.ms-word.document',\n",
       "   'title': 'Metadata for land cover for 2010 (30 m)',\n",
       "   'roles': ['metadata']},\n",
       "  'data': {'href': 'path/to/cog.tif',\n",
       "   'type': <MediaType.COG: 'image/tiff; application=geotiff; profile=cloud-optimized'>,\n",
       "   'title': 'Data for land cover over Canada for 2010 (30 m)',\n",
       "   'raster:bands': [{'nodata': -128.0,\n",
       "     'sampling': 'area',\n",
       "     'data_type': 'int8',\n",
       "     'spatial_resolution': 30.0}],\n",
       "   'file:size': 1821927873,\n",
       "   'file:values': [{'values': [1],\n",
       "     'summary': 'Temperate or sub-polar needleleaf forest'},\n",
       "    {'values': [2], 'summary': 'Sub-polar taiga needleleaf forest'},\n",
       "    {'values': [3],\n",
       "     'summary': 'Tropical or sub-tropical broadleaf evergreen forest'},\n",
       "    {'values': [4],\n",
       "     'summary': 'Tropical or sub-tropical broadleaf deciduous forest'},\n",
       "    {'values': [5],\n",
       "     'summary': 'Temperate or sub-polar broadleaf deciduous forest'},\n",
       "    {'values': [6], 'summary': 'Mixed forest'},\n",
       "    {'values': [7], 'summary': 'Tropical or sub-tropical shrubland'},\n",
       "    {'values': [8], 'summary': 'Temperate or sub-polar shrubland'},\n",
       "    {'values': [9], 'summary': 'Tropical or sub-tropical grassland'},\n",
       "    {'values': [10], 'summary': 'Temperate or sub-polar grassland'},\n",
       "    {'values': [11], 'summary': 'Sub-polar or polar shrubland-lichen-moss'},\n",
       "    {'values': [12], 'summary': 'Sub-polar or polar grassland-lichen-moss'},\n",
       "    {'values': [13], 'summary': 'Sub-polar or polar barren-lichen-moss'},\n",
       "    {'values': [14], 'summary': 'Wetland'},\n",
       "    {'values': [15], 'summary': 'Cropland'},\n",
       "    {'values': [16], 'summary': 'Barren lands'},\n",
       "    {'values': [17], 'summary': 'Urban and built-up'},\n",
       "    {'values': [18], 'summary': 'Water'},\n",
       "    {'values': [19], 'summary': 'Snow and ice'}],\n",
       "   'roles': ['data']}},\n",
       " 'bbox': [39.2533440032893,\n",
       "  -127.40853951132385,\n",
       "  61.779167675145786,\n",
       "  -12.078890175164927],\n",
       " 'stac_extensions': ['https://stac-extensions.github.io/projection/v1.0.0/schema.json',\n",
       "  'https://stac-extensions.github.io/raster/v1.0.0/schema.json',\n",
       "  'https://stac-extensions.github.io/file/v2.0.0/schema.json',\n",
       "  'https://stac-extensions.github.io/label/v1.0.0/schema.json']}"
      ]
     },
     "execution_count": 17,
     "metadata": {},
     "output_type": "execute_result"
    }
   ],
   "source": [
    "item = stac.create_item(\"CAN\", \"30\", \"2010\", source=\"path/to/cog.tif\")\n",
    "item.to_dict()"
   ]
  },
  {
   "cell_type": "code",
   "execution_count": null,
   "id": "bab57d01",
   "metadata": {},
   "outputs": [],
   "source": []
  }
 ],
 "metadata": {
  "interpreter": {
   "hash": "c2bee1ab741e827a7e677add16aa73fb04c1c623305731aa61866545d78e2921"
  },
  "kernelspec": {
   "display_name": "Python 3 (ipykernel)",
   "language": "python",
   "name": "python3"
  },
  "language_info": {
   "codemirror_mode": {
    "name": "ipython",
    "version": 3
   },
   "file_extension": ".py",
   "mimetype": "text/x-python",
   "name": "python",
   "nbconvert_exporter": "python",
   "pygments_lexer": "ipython3",
   "version": "3.9.6"
  }
 },
 "nbformat": 4,
 "nbformat_minor": 5
}
